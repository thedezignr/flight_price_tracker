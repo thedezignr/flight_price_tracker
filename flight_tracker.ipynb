{
 "cells": [
  {
   "cell_type": "code",
   "execution_count": 1,
   "metadata": {},
   "outputs": [],
   "source": [
    "from serpapi import GoogleSearch\n",
    "import pandas as pd\n",
    "from dotenv import load_dotenv\n",
    "import os\n",
    "from pandas import json_normalize"
   ]
  },
  {
   "cell_type": "code",
   "execution_count": 7,
   "metadata": {},
   "outputs": [
    {
     "data": {
      "text/plain": [
       "True"
      ]
     },
     "execution_count": 7,
     "metadata": {},
     "output_type": "execute_result"
    }
   ],
   "source": [
    "load_dotenv()"
   ]
  },
  {
   "cell_type": "code",
   "execution_count": 8,
   "metadata": {},
   "outputs": [],
   "source": [
    "API_KEY = os.getenv(\"API_KEY\")"
   ]
  },
  {
   "cell_type": "code",
   "execution_count": 9,
   "metadata": {},
   "outputs": [
    {
     "name": "stdout",
     "output_type": "stream",
     "text": [
      "   duration        airplane  ... arrival_airport_id arrival_airport_time\n",
      "0       370     Airbus A340  ...                FRA     2024-07-12 05:30\n",
      "1       100  Airbus A320neo  ...                LHR     2024-07-12 07:40\n",
      "2       395   Boeing 787-10  ...                LHR     2024-07-12 05:25\n",
      "\n",
      "[3 rows x 15 columns]    duration        airplane  ... arrival_airport_id arrival_airport_time\n",
      "0       370     Airbus A340  ...                FRA     2024-07-12 05:30\n",
      "1       100  Airbus A320neo  ...                LHR     2024-07-12 07:40\n",
      "2       395   Boeing 787-10  ...                LHR     2024-07-12 05:25\n",
      "\n",
      "[3 rows x 15 columns]\n"
     ]
    }
   ],
   "source": [
    "# Nigeria to Uk\n",
    "def flight_tracker_uk():\n",
    "\n",
    "  # API parameter\n",
    "  params_uk = {\n",
    "    \"api_key\": API_KEY,\n",
    "    \"engine\": \"google_flights\",\n",
    "    \"hl\": \"en\",\n",
    "    \"gl\": \"uk\",\n",
    "    \"departure_id\": \"ABV, LOS\",\n",
    "    \"arrival_id\": \"LHR, LGW\",\n",
    "    \"outbound_date\": \"2024-07-11\",\n",
    "    \"currency\": \"USD\",\n",
    "    \"type\": \"2\"\n",
    "  }\n",
    "\n",
    "  # Where data extration happens\n",
    "  search_uk = GoogleSearch(params_uk)\n",
    "  results_uk = search_uk.get_dict()\n",
    "\n",
    "  # Normalize flight details\n",
    "  best_flights = results_uk[\"best_flights\"]\n",
    "  other_flights = results_uk[\"other_flights\"]\n",
    "\n",
    "  # Flatten best_flight details\n",
    "  best_flights_data = json_normalize(\n",
    "      [flight for best_flight in best_flights for flight in best_flight[\"flights\"]],\n",
    "      sep='_'\n",
    "  )\n",
    "\n",
    "  # Flatten other_flight details\n",
    "  other_flights_data = json_normalize(\n",
    "      [flight for best_flight in best_flights for flight in best_flight[\"flights\"]],\n",
    "      sep='_'\n",
    "  )\n",
    "\n",
    "  print(best_flights_data, other_flights_data)\n",
    "\n",
    "# Call the function\n",
    "flight_tracker_uk()"
   ]
  },
  {
   "cell_type": "code",
   "execution_count": 11,
   "metadata": {},
   "outputs": [
    {
     "name": "stdout",
     "output_type": "stream",
     "text": [
      "   duration  ... often_delayed_by_over_30_min\n",
      "0       370  ...                          NaN\n",
      "1       440  ...                         True\n",
      "2        99  ...                          NaN\n",
      "3       370  ...                          NaN\n",
      "4       125  ...                          NaN\n",
      "5       485  ...                         True\n",
      "6       390  ...                          NaN\n",
      "7       450  ...                          NaN\n",
      "\n",
      "[8 rows x 17 columns]    duration  ... often_delayed_by_over_30_min\n",
      "0       370  ...                          NaN\n",
      "1       440  ...                         True\n",
      "2        99  ...                          NaN\n",
      "3       370  ...                          NaN\n",
      "4       125  ...                          NaN\n",
      "5       485  ...                         True\n",
      "6       390  ...                          NaN\n",
      "7       450  ...                          NaN\n",
      "\n",
      "[8 rows x 17 columns]\n"
     ]
    }
   ],
   "source": [
    "# Nigeria to Canada\n",
    "def flight_tracker_ca():\n",
    "  \n",
    "  # API parameter\n",
    "  params_ca = {\n",
    "    \"api_key\": API_KEY,\n",
    "    \"engine\": \"google_flights\",\n",
    "    \"hl\": \"en\",\n",
    "    \"gl\": \"ca\",\n",
    "    \"departure_id\": \"ABV, LOS\",\n",
    "    \"arrival_id\": \"YYZ, YUL\",\n",
    "    \"outbound_date\": \"2024-07-11\",\n",
    "    \"currency\": \"USD\",\n",
    "    \"type\": \"2\"\n",
    "  }\n",
    "\n",
    "  # Where data extration happens\n",
    "  search_ca = GoogleSearch(params_ca)\n",
    "  results_ca = search_ca.get_dict()\n",
    "\n",
    "  # Normalize flight details\n",
    "  best_flights = results_ca[\"best_flights\"]\n",
    "  other_flights = results_ca[\"other_flights\"]\n",
    "\n",
    "  # Flatten best_flight details\n",
    "  best_flights_data = json_normalize(\n",
    "      [flight for best_flight in best_flights for flight in best_flight[\"flights\"]],\n",
    "      sep='_'\n",
    "  )\n",
    "\n",
    "  # Flatten other_flight details\n",
    "  other_flights_data = json_normalize(\n",
    "      [flight for best_flight in best_flights for flight in best_flight[\"flights\"]],\n",
    "      sep='_'\n",
    "  )\n",
    "\n",
    "  print(best_flights_data, other_flights_data)\n",
    "\n",
    "flight_tracker_ca()"
   ]
  },
  {
   "cell_type": "code",
   "execution_count": 13,
   "metadata": {},
   "outputs": [
    {
     "name": "stdout",
     "output_type": "stream",
     "text": [
      "   duration                   airplane  ... legroom ticket_also_sold_by\n",
      "0       390                Airbus A350  ...     NaN                 NaN\n",
      "1       475                Airbus A350  ...     NaN                 NaN\n",
      "2       390                Airbus A350  ...     NaN                 NaN\n",
      "3        90  Airbus A220-300 Passenger  ...   30 in                 NaN\n",
      "4       465                Airbus A330  ...     NaN        [Air France]\n",
      "\n",
      "[5 rows x 16 columns]    duration                   airplane  ... legroom ticket_also_sold_by\n",
      "0       390                Airbus A350  ...     NaN                 NaN\n",
      "1       475                Airbus A350  ...     NaN                 NaN\n",
      "2       390                Airbus A350  ...     NaN                 NaN\n",
      "3        90  Airbus A220-300 Passenger  ...   30 in                 NaN\n",
      "4       465                Airbus A330  ...     NaN        [Air France]\n",
      "\n",
      "[5 rows x 16 columns]\n"
     ]
    }
   ],
   "source": [
    "# Nigeria to USA\n",
    "\n",
    "def flight_tracker_us():\n",
    "  \n",
    "  # API parameter\n",
    "  params_us = {\n",
    "    \"api_key\": API_KEY,\n",
    "    \"engine\": \"google_flights\",\n",
    "    \"hl\": \"en\",\n",
    "    \"gl\": \"us\",\n",
    "    \"departure_id\": \"ABV, LOS\",\n",
    "    \"arrival_id\": \"JFK, SFO\",\n",
    "    \"outbound_date\": \"2024-07-11\",\n",
    "    \"currency\": \"USD\",\n",
    "    \"type\": \"2\"\n",
    "  }\n",
    "\n",
    "  # Where data extration happens\n",
    "  search_us = GoogleSearch(params_us)\n",
    "  results_us = search_us.get_dict()\n",
    "\n",
    "  # Normalize flight details\n",
    "  best_flights = results_us[\"best_flights\"]\n",
    "  other_flights = results_us[\"other_flights\"]\n",
    "\n",
    "  # Flatten best_flight details\n",
    "  best_flights_data = json_normalize(\n",
    "      [flight for best_flight in best_flights for flight in best_flight[\"flights\"]],\n",
    "      sep='_'\n",
    "  )\n",
    "\n",
    "  # Flatten other_flight details\n",
    "  other_flights_data = json_normalize(\n",
    "      [flight for best_flight in best_flights for flight in best_flight[\"flights\"]],\n",
    "      sep='_'\n",
    "  )\n",
    "\n",
    "  print(best_flights_data, other_flights_data)\n",
    "\n",
    "flight_tracker_us()"
   ]
  }
 ],
 "metadata": {
  "kernelspec": {
   "display_name": "Python 3",
   "language": "python",
   "name": "python3"
  },
  "language_info": {
   "codemirror_mode": {
    "name": "ipython",
    "version": 3
   },
   "file_extension": ".py",
   "mimetype": "text/x-python",
   "name": "python",
   "nbconvert_exporter": "python",
   "pygments_lexer": "ipython3",
   "version": "3.9.19"
  }
 },
 "nbformat": 4,
 "nbformat_minor": 2
}
